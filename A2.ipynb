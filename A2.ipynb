{
 "cells": [
  {
   "cell_type": "markdown",
   "id": "c85b9e0d-9163-40a8-b8ef-fe1a6117aab5",
   "metadata": {},
   "source": [
    "# Importing Necessary Libraries"
   ]
  },
  {
   "cell_type": "code",
   "execution_count": 659,
   "id": "31e05923-77e2-4559-8369-23dec18d70fc",
   "metadata": {},
   "outputs": [],
   "source": [
    "# Necessary imports\n",
    "\n",
    "import pandas as pd\n",
    "import numpy as np\n",
    "import seaborn as sns\n",
    "import matplotlib.pyplot as plt\n",
    "from sklearn.model_selection import train_test_split, GridSearchCV\n",
    "from sklearn.ensemble import RandomForestClassifier\n",
    "from sklearn.svm import SVC\n",
    "from sklearn.metrics import f1_score, classification_report, confusion_matrix, accuracy_score\n",
    "from sklearn.preprocessing import StandardScaler\n",
    "from tabulate import tabulate\n",
    "from IPython.display import display, HTML\n"
   ]
  },
  {
   "cell_type": "markdown",
   "id": "70868c25-42f3-4da4-8e28-6257531a00c4",
   "metadata": {},
   "source": [
    "# Load and Prepare the Dataset"
   ]
  },
  {
   "cell_type": "code",
   "execution_count": 661,
   "id": "ff40f336-51c6-4ed1-87f3-cbf568800af7",
   "metadata": {},
   "outputs": [
    {
     "name": "stdout",
     "output_type": "stream",
     "text": [
      "Training Data (First 5 Rows):\n",
      " +----+------+------+------+------+-----+-----+------+------+-----+\n",
      "|    |    0 |    1 |    2 |    3 |   4 |   5 |    6 |    7 |   8 |\n",
      "+====+======+======+======+======+=====+=====+======+======+=====+\n",
      "|  0 | 0.81 | 0.85 | 0.47 | 0.37 | 0.5 |   0 | 0.56 | 0.22 |   1 |\n",
      "+----+------+------+------+------+-----+-----+------+------+-----+\n",
      "|  1 | 0.7  | 0.58 | 0.53 | 0.39 | 0.5 |   0 | 0.59 | 0.22 |   1 |\n",
      "+----+------+------+------+------+-----+-----+------+------+-----+\n",
      "|  2 | 0.72 | 0.73 | 0.41 | 0.28 | 0.5 |   0 | 0.44 | 0.22 |   1 |\n",
      "+----+------+------+------+------+-----+-----+------+------+-----+\n",
      "|  3 | 0.78 | 0.69 | 0.44 | 0.26 | 0.5 |   0 | 0.54 | 0.22 |   1 |\n",
      "+----+------+------+------+------+-----+-----+------+------+-----+\n",
      "|  4 | 0.74 | 0.82 | 0.46 | 0.24 | 0.5 |   0 | 0.48 | 0.22 |   1 |\n",
      "+----+------+------+------+------+-----+-----+------+------+-----+\n",
      "\n",
      "Test Data (First 5 Rows):\n",
      " +----+------+------+------+------+-----+------+------+------+\n",
      "|    |    0 |    1 |    2 |    3 |   4 |    5 |    6 |    7 |\n",
      "+====+======+======+======+======+=====+======+======+======+\n",
      "|  0 | 0.74 | 0.72 | 0.5  | 0.28 | 0.5 | 0    | 0.49 | 0.27 |\n",
      "+----+------+------+------+------+-----+------+------+------+\n",
      "|  1 | 0.8  | 0.88 | 0.36 | 0.39 | 0.5 | 0    | 0.56 | 0.33 |\n",
      "+----+------+------+------+------+-----+------+------+------+\n",
      "|  2 | 0.57 | 0.52 | 0.46 | 0.2  | 0.5 | 0.83 | 0.52 | 0.41 |\n",
      "+----+------+------+------+------+-----+------+------+------+\n",
      "|  3 | 0.77 | 0.82 | 0.4  | 0.36 | 0.5 | 0    | 0.38 | 0.22 |\n",
      "+----+------+------+------+------+-----+------+------+------+\n",
      "|  4 | 0.69 | 0.6  | 0.51 | 0.13 | 0.5 | 0.83 | 0.52 | 0.22 |\n",
      "+----+------+------+------+------+-----+------+------+------+\n"
     ]
    }
   ],
   "source": [
    "# Load training and test datasets\n",
    "train_data = pd.read_csv('train.csv', sep=',', index_col=0)\n",
    "test_data = pd.read_csv('test_attribute.csv', sep=',', index_col=0)\n",
    "\n",
    "# Display the data to ensure it loaded correctly\n",
    "print(\"Training Data (First 5 Rows):\\n\", tabulate(train_data.head(), headers='keys', tablefmt='grid'))\n",
    "print(\"\\nTest Data (First 5 Rows):\\n\", tabulate(test_data.head(), headers='keys', tablefmt='grid'))\n"
   ]
  },
  {
   "cell_type": "markdown",
   "id": "24f87eea-d08b-4e51-bb0d-7033d0746ee2",
   "metadata": {},
   "source": [
    "## Visualization of Target Class Distribution"
   ]
  },
  {
   "cell_type": "code",
   "execution_count": 663,
   "id": "48cd4e28-b24d-4505-b9b3-2122618a768f",
   "metadata": {},
   "outputs": [
    {
     "data": {
      "image/png": "[encoded data removed]",
      "text/plain": [
       "<Figure size 600x400 with 1 Axes>"
      ]
     },
     "metadata": {},
     "output_type": "display_data"
    }
   ],
   "source": [
    "# Visualize distribution of target classes\n",
    "plt.figure(figsize=(6, 4))\n",
    "sns.countplot(x=train_data.iloc[:, -1])\n",
    "plt.title(\"Target Class Distribution\")\n",
    "plt.xlabel(\"Class\")\n",
    "plt.ylabel(\"Count\")\n",
    "plt.show()\n"
   ]
  },
  {
   "cell_type": "markdown",
   "id": "d4b95cfe-46df-4853-af43-cb698be53aa0",
   "metadata": {},
   "source": [
    "## Split data into training and validation sets"
   ]
  },
  {
   "cell_type": "code",
   "execution_count": 665,
   "id": "ae46ba83-8da3-4c1e-be8c-b712ee7a757e",
   "metadata": {},
   "outputs": [],
   "source": [
    "# Split data into training and validation sets for model evaluation\n",
    "X_train, X_val, y_train, y_val = train_test_split(X_scaled, y, test_size=0.2, random_state=42)"
   ]
  },
  {
   "cell_type": "markdown",
   "id": "a1347b25-4809-41fe-beb8-60d7017d3456",
   "metadata": {},
   "source": [
    "## Define hyperparameters for Grid Search"
   ]
  },
  {
   "cell_type": "code",
   "execution_count": 667,
   "id": "ee81b8f6-7107-4a20-9aa0-57c67d381127",
   "metadata": {},
   "outputs": [],
   "source": [
    "# Define hyperparameters for Grid Search on the RandomForest and SVM Classifiers\n",
    "rf_param_grid = {\n",
    "    'n_estimators': [50, 100, 150],\n",
    "    'max_depth': [10, 20, None],\n",
    "    'min_samples_split': [2, 5, 10]\n",
    "}\n",
    "svm_param_grid = {\n",
    "    'C': [0.1, 1, 10],\n",
    "    'kernel': ['linear', 'rbf'],\n",
    "    'gamma': ['scale', 'auto']\n",
    "}"
   ]
  },
  {
   "cell_type": "markdown",
   "id": "50510910-fb70-46b8-9136-23d3be2337fb",
   "metadata": {},
   "source": [
    "## Grid Search on the RandomForest and SVM Classifiers and its best parameters"
   ]
  },
  {
   "cell_type": "code",
   "execution_count": 669,
   "id": "29b11333-a343-4a95-a84b-078f3cbaf031",
   "metadata": {},
   "outputs": [
    {
     "name": "stdout",
     "output_type": "stream",
     "text": [
      "\n",
      "Best Parameters for SVM: {'C': 0.1, 'gamma': 'scale', 'kernel': 'linear'}\n",
      "Best Parameters for RandomForest: {'max_depth': 10, 'min_samples_split': 10, 'n_estimators': 50}\n"
     ]
    }
   ],
   "source": [
    "# Perform Grid Search for RandomForest and SVM Classifiers\n",
    "rf_grid_search = GridSearchCV(RandomForestClassifier(random_state=42), rf_param_grid, scoring='f1', cv=5)\n",
    "rf_grid_search.fit(X_train, y_train)\n",
    "best_rf = rf_grid_search.best_estimator_\n",
    "\n",
    "svm_grid_search = GridSearchCV(SVC(random_state=42), svm_param_grid, scoring='f1', cv=5)\n",
    "svm_grid_search.fit(X_train, y_train)\n",
    "best_svm = svm_grid_search.best_estimator_\n",
    "\n",
    "# Display best parameters for both classifiers\n",
    "print(\"\\nBest Parameters for SVM:\", svm_grid_search.best_params_)\n",
    "print(\"Best Parameters for RandomForest:\", rf_grid_search.best_params_)"
   ]
  },
  {
   "cell_type": "markdown",
   "id": "eed49903-6703-42c7-8904-2b57055b7928",
   "metadata": {},
   "source": [
    "## Evaluating F1 scores"
   ]
  },
  {
   "cell_type": "code",
   "execution_count": 671,
   "id": "b03fdbaf-3a8c-4686-9a05-cee10cb71af8",
   "metadata": {},
   "outputs": [
    {
     "name": "stdout",
     "output_type": "stream",
     "text": [
      "\n",
      "Model Comparison:\n",
      " +--------------+-----------------------+\n",
      "| Model        |   Validation F1 Score |\n",
      "+==============+=======================+\n",
      "| SVM          |                  0.98 |\n",
      "+--------------+-----------------------+\n",
      "| RandomForest |                  0.97 |\n",
      "+--------------+-----------------------+\n"
     ]
    }
   ],
   "source": [
    "# Evaluate F1 scores on the validation set for both classifiers\n",
    "svm_val_predictions = best_svm.predict(X_val)\n",
    "rf_val_predictions = best_rf.predict(X_val)\n",
    "\n",
    "svm_f1 = f1_score(y_val, svm_val_predictions, average=\"weighted\")\n",
    "rf_f1 = f1_score(y_val, rf_val_predictions, average=\"weighted\")\n",
    "\n",
    "# Displaying F1 scores in a table format\n",
    "results_table = [[\"Model\", \"Validation F1 Score\"],\n",
    "                 [\"SVM\", round(svm_f1, 2)],\n",
    "                 [\"RandomForest\", round(rf_f1, 2)]]\n",
    "print(\"\\nModel Comparison:\\n\", tabulate(results_table, headers=\"firstrow\", tablefmt=\"grid\"))"
   ]
  },
  {
   "cell_type": "markdown",
   "id": "50c87f3f-91f7-42ba-aaad-5148df97793f",
   "metadata": {},
   "source": [
    "## Calculating accuracy and F1 score"
   ]
  },
  {
   "cell_type": "code",
   "execution_count": 673,
   "id": "4cf5c7bc-aa10-4be9-931a-2013bc3642f8",
   "metadata": {},
   "outputs": [
    {
     "name": "stdout",
     "output_type": "stream",
     "text": [
      "\n",
      "Training and Validation Results:\n",
      " +-----------------------+---------+\n",
      "| Metric                |   Value |\n",
      "+=======================+=========+\n",
      "| Training Set Accuracy |    0.98 |\n",
      "+-----------------------+---------+\n",
      "| Training Set F1 Score |    0.97 |\n",
      "+-----------------------+---------+\n",
      "\n",
      "F1 Score Result:\n",
      " +---------------------+---------+\n",
      "| Metric              |   Value |\n",
      "+=====================+=========+\n",
      "| Validation F1 Score |    0.98 |\n",
      "+---------------------+---------+\n",
      "\n",
      "Comparison Result:\n",
      " +--------------------+------------------+\n",
      "| Model Comparison   | SVM classifier   |\n",
      "+====================+==================+\n",
      "+--------------------+------------------+\n"
     ]
    }
   ],
   "source": [
    "\n",
    "# Calculating accuracy and F1 score for training set\n",
    "train_predictions = best_svm.predict(X_train)\n",
    "train_accuracy = accuracy_score(y_train, train_predictions)\n",
    "train_f1 = f1_score(y_train, train_predictions, average=\"weighted\")\n",
    "\n",
    "# Displaying training set accuracy\n",
    "train_results = [[\"Metric\", \"Value\"],\n",
    "                 [\"Training Set Accuracy\", round(train_accuracy, 2)],\n",
    "                 [\"Training Set F1 Score\", round(train_f1, 2)],\n",
    "                 ]\n",
    "# Displaying F1 score\n",
    "train_F1_results = [[\"Metric\", \"Value\"],\n",
    "                 [\"Validation F1 Score\", round(svm_f1, 2)]]\n",
    "\n",
    "print(\"\\nTraining and Validation Results:\\n\", tabulate(train_results, headers=\"firstrow\", tablefmt=\"grid\"))\n",
    "\n",
    "print(\"\\nF1 Score Result:\\n\",tabulate(train_F1_results, headers=\"firstrow\", tablefmt=\"grid\"))\n",
    "\n",
    "# Check which model has a better F1 score\n",
    "if svm_f1 > rf_f1:\n",
    "    better_model = \"SVM classifier\"\n",
    "else:\n",
    "    better_model = \"RandomForest classifier\"\n",
    "\n",
    "comparison_result = [[\"Model Comparison\", better_model]]\n",
    "print(\"\\nComparison Result:\\n\", tabulate(comparison_result, headers=\"firstrow\", tablefmt=\"grid\"))"
   ]
  },
  {
   "cell_type": "markdown",
   "id": "52644fbf-c7a5-4a7f-a59e-93d8cd078fb1",
   "metadata": {},
   "source": []
  },
  {
   "cell_type": "markdown",
   "id": "6139a049-e832-41e9-abc4-2bb62b51285e",
   "metadata": {},
   "source": [
    "## Confusion matrix for SVM"
   ]
  },
  {
   "cell_type": "code",
   "execution_count": 676,
   "id": "b833d68b-841c-4594-b9ac-4227ee057a31",
   "metadata": {},
   "outputs": [
    {
     "data": {
      "image/png": "[encoded data removed]",
      "text/plain": [
       "<Figure size 800x600 with 2 Axes>"
      ]
     },
     "metadata": {},
     "output_type": "display_data"
    }
   ],
   "source": [
    "# Plot the confusion matrix for SVM\n",
    "svm_conf_matrix = confusion_matrix(y_val, svm_val_predictions)\n",
    "plt.figure(figsize=(8, 6))\n",
    "sns.heatmap(svm_conf_matrix, annot=True, fmt='d', cmap='Purples')\n",
    "plt.title(\"SVM - Confusion Matrix\")\n",
    "plt.xlabel(\"Predicted\")\n",
    "plt.ylabel(\"Actual\")\n",
    "plt.show()\n",
    "\n"
   ]
  },
  {
   "cell_type": "markdown",
   "id": "d69cc8a5-48bd-4376-9a45-ff4621273b4f",
   "metadata": {},
   "source": [
    "##"
   ]
  },
  {
   "cell_type": "markdown",
   "id": "885bf544-1afa-4c44-b81f-9bb3f8c09d2b",
   "metadata": {},
   "source": [
    "## Plot distribution of incorrect predictions vs actual predictions"
   ]
  },
  {
   "cell_type": "code",
   "execution_count": 679,
   "id": "98a60102-2ffa-4803-9e9c-944ba273db3a",
   "metadata": {},
   "outputs": [
    {
     "data": {
      "image/png": "[encoded data removed]",
      "text/plain": [
       "<Figure size 1000x600 with 1 Axes>"
      ]
     },
     "metadata": {},
     "output_type": "display_data"
    }
   ],
   "source": [
    "# Plot distribution of incorrect predictions vs actual predictions\n",
    "incorrect_predictions = y_val != svm_val_predictions\n",
    "plt.figure(figsize=(10, 6))\n",
    "sns.histplot(y_val[incorrect_predictions], color=\"red\", label=\"Incorrect Predictions\", kde=True)\n",
    "sns.histplot(y_val, color=\"blue\", label=\"Actual Values\", kde=True, alpha=0.5)\n",
    "plt.title(\"Distribution of Incorrect Predictions vs Actual Predictions\")\n",
    "plt.xlabel(\"Class Label\")\n",
    "plt.ylabel(\"Frequency\")\n",
    "plt.legend()\n",
    "plt.show()\n",
    "\n"
   ]
  },
  {
   "cell_type": "markdown",
   "id": "b11c249d-adce-4ff9-9b73-a9ff9d9dec6c",
   "metadata": {},
   "source": []
  },
  {
   "cell_type": "markdown",
   "id": "3ee5cce9-7aab-4128-ae5f-979466e9d13d",
   "metadata": {},
   "source": [
    "## Save Predictions to a Text File"
   ]
  },
  {
   "cell_type": "code",
   "execution_count": 682,
   "id": "7e8613fd-1b2b-47d0-aac9-9f23ea17e341",
   "metadata": {},
   "outputs": [
    {
     "name": "stdout",
     "output_type": "stream",
     "text": [
      "\n",
      "Predictions saved to 'prediction.txt'\n"
     ]
    }
   ],
   "source": [
    "# Predictions on test dataset and saving it to prediction.txt file\n",
    "test_predictions = best_svm.predict(test_data_scaled)\n",
    "np.savetxt(\"prediction.txt\", test_predictions, fmt='%d')\n",
    "print(\"\\nPredictions saved to 'prediction.txt'\")"
   ]
  },
  {
   "cell_type": "markdown",
   "id": "743ac172-29f7-4962-a18d-16a1c0b37f9a",
   "metadata": {},
   "source": []
  },
  {
   "cell_type": "code",
   "execution_count": null,
   "id": "e7e3ae67-1554-4e4e-b656-c413ecf3751e",
   "metadata": {},
   "outputs": [],
   "source": []
  },
  {
   "cell_type": "markdown",
   "id": "eea59e06",
   "metadata": {},
   "source": [
    "### Briefly describe your approach in the following cell."
   ]
  },
  {
   "cell_type": "code",
   "execution_count": 685,
   "id": "0e44f8b8-fa31-40ea-86e9-4596692b7733",
   "metadata": {},
   "outputs": [
    {
     "data": {
      "text/html": [
       "<h4>To start, I loaded both the training and testing datasets from CSV files and initiated the model development process. I examined the data distribution and structure through visualizations to gain initial insights.</h4>"
      ],
      "text/plain": [
       "<IPython.core.display.HTML object>"
      ]
     },
     "metadata": {},
     "output_type": "display_data"
    },
    {
     "data": {
      "text/html": [
       "<h4>Next, I evaluated two powerful algorithms - Support Vector Machine (SVM) and Random Forest Classifier - by comparing their F1 scores. I used GridSearchCV to find the best parameters for both models, ensuring optimal performance.</h4>"
      ],
      "text/plain": [
       "<IPython.core.display.HTML object>"
      ]
     },
     "metadata": {},
     "output_type": "display_data"
    },
    {
     "data": {
      "text/html": [
       "<h4>I then split the data into training (80%) and validation (20%) sets, and performed feature scaling for better model performance. I created visualization tools like confusion matrices and distribution plots to understand model behavior and identify any patterns in incorrect predictions.</h4>"
      ],
      "text/plain": [
       "<IPython.core.display.HTML object>"
      ]
     },
     "metadata": {},
     "output_type": "display_data"
    },
    {
     "data": {
      "text/html": [
       "<h4>Finally, I selected the better performing model based on F1 scores, made predictions on the test dataset, and saved the results to 'prediction.txt'. Thank you for reviewing my approach!</h4>"
      ],
      "text/plain": [
       "<IPython.core.display.HTML object>"
      ]
     },
     "metadata": {},
     "output_type": "display_data"
    }
   ],
   "source": [
    "display(HTML(\"<h4>To start, I loaded both the training and testing datasets from CSV files and initiated the model development process. I examined the data distribution and structure through visualizations to gain initial insights.</h4>\"))\n",
    "display(HTML(\"<h4>Next, I evaluated two powerful algorithms - Support Vector Machine (SVM) and Random Forest Classifier - by comparing their F1 scores. I used GridSearchCV to find the best parameters for both models, ensuring optimal performance.</h4>\"))\n",
    "display(HTML(\"<h4>I then split the data into training (80%) and validation (20%) sets, and performed feature scaling for better model performance. I created visualization tools like confusion matrices and distribution plots to understand model behavior and identify any patterns in incorrect predictions.</h4>\"))\n",
    "display(HTML(\"<h4>Finally, I selected the better performing model based on F1 scores, made predictions on the test dataset, and saved the results to 'prediction.txt'. Thank you for reviewing my approach!</h4>\"))"
   ]
  }
 ],
 "metadata": {
  "kernelspec": {
   "display_name": "Python 3 (ipykernel)",
   "language": "python",
   "name": "python3"
  },
  "language_info": {
   "codemirror_mode": {
    "name": "ipython",
    "version": 3
   },
   "file_extension": ".py",
   "mimetype": "text/x-python",
   "name": "python",
   "nbconvert_exporter": "python",
   "pygments_lexer": "ipython3",
   "version": "3.12.4"
  }
 },
 "nbformat": 4,
 "nbformat_minor": 5
}
